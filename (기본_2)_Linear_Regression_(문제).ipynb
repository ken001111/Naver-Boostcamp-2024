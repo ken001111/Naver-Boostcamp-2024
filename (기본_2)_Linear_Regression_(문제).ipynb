{
  "cells": [
    {
      "cell_type": "markdown",
      "metadata": {
        "id": "view-in-github",
        "colab_type": "text"
      },
      "source": [
        "<a href=\"https://colab.research.google.com/github/ken001111/Naver-Boostcamp-2024/blob/main/(%EA%B8%B0%EB%B3%B8_2)_Linear_Regression_(%EB%AC%B8%EC%A0%9C).ipynb\" target=\"_parent\"><img src=\"https://colab.research.google.com/assets/colab-badge.svg\" alt=\"Open In Colab\"/></a>"
      ]
    },
    {
      "cell_type": "markdown",
      "metadata": {
        "id": "bEDf0r-hplZv"
      },
      "source": [
        "## **Linear Regression 과제**\n",
        "---"
      ]
    },
    {
      "cell_type": "markdown",
      "metadata": {
        "id": "-NFgIT2xqMtq"
      },
      "source": [
        "### **1) 과제 개요**\n",
        "\n",
        "- pytorch를 이용하여 Boston House Prices데이터에 대해 주택 가격을 예측하는 선형 회귀 분석을 시행합니다."
      ]
    },
    {
      "cell_type": "markdown",
      "metadata": {
        "id": "vduPFrhcrT-T"
      },
      "source": [
        "### **2) 과제 진행 목적 및 배경**\n",
        "\n",
        "- pytorch를 이용하여 선형 회귀 분석을 위한 모델을 구축하고, 이를 통해 선형 회귀 분석을 실시하는 방법을 공부합니다."
      ]
    },
    {
      "cell_type": "markdown",
      "metadata": {
        "id": "6k7IOFYAuKht"
      },
      "source": [
        "### **3) 과제 수행으로 얻어갈 수 있는 역량**\n",
        "\n",
        "- 주어진 데이터를 pytorch 학습에 맞게 전처리할 수 있다.\n",
        "\n",
        "- 선형 회귀 분석에 필요한 pytorch 구성 요소들을 구현할 수 있다.\n",
        "\n",
        "- 실제 데이터에 대해 선형 회귀 분석을 실시할 수 있다."
      ]
    },
    {
      "cell_type": "markdown",
      "metadata": {
        "id": "oP0_wVxcplZy"
      },
      "source": [
        "### **4) 과제 핵심 내용**\n",
        "\n",
        "- Boston House Prices 데이터를 선형회귀에 맞게 전처리합니다.\n",
        "\n",
        "- 선형 회귀 모델을 pytorch로 구현하고, 이를 학습시킵니다.\n",
        "\n",
        "- 머신러닝을 통해 얻은 회귀계수를 analytic solution과 비교합니다."
      ]
    },
    {
      "cell_type": "markdown",
      "metadata": {
        "id": "TfdxdMbwuMCJ"
      },
      "source": [
        "### **5) 데이터셋 개요 및 저작권 정보**\n",
        "\n",
        "- 사용 데이터셋: [Boston House Prices](https://www.kaggle.com/datasets/arunjathari/bostonhousepricedata)\n",
        "  - 보스턴 시의 범죄율, 재산세율, 본인 소유의 주택가격의 중앙값등의 측정된 지표를 포함한 데이터셋입니다.\n",
        "- 저작권 정보: [CC0 1.0 Universal](https://creativecommons.org/publicdomain/zero/1.0/)"
      ]
    },
    {
      "cell_type": "markdown",
      "metadata": {
        "id": "fAgkYvFqudrU"
      },
      "source": [
        "### **6) Required Package**\n",
        "\n",
        "```python\n",
        "scikit-learn >= 1.4.2\n",
        "torch >= 2.3.0\n",
        "pandas >= 2.2.2\n",
        "numpy >= 1.26.4\n",
        "```"
      ]
    },
    {
      "cell_type": "markdown",
      "metadata": {
        "id": "-vnyWxsxplZz"
      },
      "source": [
        "---\n",
        "### **과제 진행 방법**\n",
        "`[CODE START]`와 `[CODE END]` 사이의 코드들을 완성하는 것을 목표로 합니다."
      ]
    },
    {
      "cell_type": "markdown",
      "metadata": {
        "id": "3CzxdbqxaZMR"
      },
      "source": [
        "---\n",
        "## **Boston House Prices 데이터를 다운받고 전처리하기**"
      ]
    },
    {
      "cell_type": "markdown",
      "metadata": {
        "id": "a_RAAgugplZz"
      },
      "source": [
        "#### 문제 1. 데이터셋 개요에 첨부된 [링크](https://www.kaggle.com/datasets/arunjathari/bostonhousepricedata)에서 데이터를 다운받고, 변수 `data`에 데이터를 저장하세요.\n",
        "힌트: pandas 라이브러리의 read_csv 함수를 이용하세요."
      ]
    },
    {
      "cell_type": "code",
      "source": [
        "from google.colab import drive\n",
        "drive.mount('/content/drive')"
      ],
      "metadata": {
        "id": "FUJhDptnPn43",
        "outputId": "c80166a8-cc67-463a-e699-dd84656a6cb2",
        "colab": {
          "base_uri": "https://localhost:8080/"
        }
      },
      "execution_count": 6,
      "outputs": [
        {
          "output_type": "stream",
          "name": "stdout",
          "text": [
            "Mounted at /content/drive\n"
          ]
        }
      ]
    },
    {
      "cell_type": "code",
      "execution_count": 12,
      "metadata": {
        "id": "DP65ewjlplZz"
      },
      "outputs": [],
      "source": [
        "import pandas as pd\n",
        "# [CODE START]\n",
        "data = pd.read_csv(\"Boston-house-price-data.csv\", sep = ',', header = 0)\n",
        "# [CODE END]"
      ]
    },
    {
      "cell_type": "markdown",
      "metadata": {
        "id": "PEV7hdEIplZ0"
      },
      "source": [
        "올바르게 불러왔다면, 아래 코드가 에러없이 잘 수행됩니다."
      ]
    },
    {
      "cell_type": "code",
      "execution_count": 13,
      "metadata": {
        "id": "X7pplWPAplZ1",
        "outputId": "4a6a3caf-5b16-4a41-bbf7-2fe02f8d74a1",
        "colab": {
          "base_uri": "https://localhost:8080/",
          "height": 224
        }
      },
      "outputs": [
        {
          "output_type": "stream",
          "name": "stdout",
          "text": [
            "Data is loaded correctly!\n"
          ]
        },
        {
          "output_type": "execute_result",
          "data": {
            "text/plain": [
              "      CRIM    ZN  INDUS  CHAS    NOX     RM   AGE     DIS  RAD    TAX  \\\n",
              "0  0.00632  18.0   2.31     0  0.538  6.575  65.2  4.0900    1  296.0   \n",
              "1  0.02731   0.0   7.07     0  0.469  6.421  78.9  4.9671    2  242.0   \n",
              "2  0.02729   0.0   7.07     0  0.469  7.185  61.1  4.9671    2  242.0   \n",
              "3  0.03237   0.0   2.18     0  0.458  6.998  45.8  6.0622    3  222.0   \n",
              "4  0.06905   0.0   2.18     0  0.458  7.147  54.2  6.0622    3  222.0   \n",
              "\n",
              "   PTRATIO       B  LSTAT  MEDV  \n",
              "0     15.3  396.90   4.98  24.0  \n",
              "1     17.8  396.90   9.14  21.6  \n",
              "2     17.8  392.83   4.03  34.7  \n",
              "3     18.7  394.63   2.94  33.4  \n",
              "4     18.7  396.90   5.33  36.2  "
            ],
            "text/html": [
              "\n",
              "  <div id=\"df-7336441a-2694-4c78-940a-d0515d666460\" class=\"colab-df-container\">\n",
              "    <div>\n",
              "<style scoped>\n",
              "    .dataframe tbody tr th:only-of-type {\n",
              "        vertical-align: middle;\n",
              "    }\n",
              "\n",
              "    .dataframe tbody tr th {\n",
              "        vertical-align: top;\n",
              "    }\n",
              "\n",
              "    .dataframe thead th {\n",
              "        text-align: right;\n",
              "    }\n",
              "</style>\n",
              "<table border=\"1\" class=\"dataframe\">\n",
              "  <thead>\n",
              "    <tr style=\"text-align: right;\">\n",
              "      <th></th>\n",
              "      <th>CRIM</th>\n",
              "      <th>ZN</th>\n",
              "      <th>INDUS</th>\n",
              "      <th>CHAS</th>\n",
              "      <th>NOX</th>\n",
              "      <th>RM</th>\n",
              "      <th>AGE</th>\n",
              "      <th>DIS</th>\n",
              "      <th>RAD</th>\n",
              "      <th>TAX</th>\n",
              "      <th>PTRATIO</th>\n",
              "      <th>B</th>\n",
              "      <th>LSTAT</th>\n",
              "      <th>MEDV</th>\n",
              "    </tr>\n",
              "  </thead>\n",
              "  <tbody>\n",
              "    <tr>\n",
              "      <th>0</th>\n",
              "      <td>0.00632</td>\n",
              "      <td>18.0</td>\n",
              "      <td>2.31</td>\n",
              "      <td>0</td>\n",
              "      <td>0.538</td>\n",
              "      <td>6.575</td>\n",
              "      <td>65.2</td>\n",
              "      <td>4.0900</td>\n",
              "      <td>1</td>\n",
              "      <td>296.0</td>\n",
              "      <td>15.3</td>\n",
              "      <td>396.90</td>\n",
              "      <td>4.98</td>\n",
              "      <td>24.0</td>\n",
              "    </tr>\n",
              "    <tr>\n",
              "      <th>1</th>\n",
              "      <td>0.02731</td>\n",
              "      <td>0.0</td>\n",
              "      <td>7.07</td>\n",
              "      <td>0</td>\n",
              "      <td>0.469</td>\n",
              "      <td>6.421</td>\n",
              "      <td>78.9</td>\n",
              "      <td>4.9671</td>\n",
              "      <td>2</td>\n",
              "      <td>242.0</td>\n",
              "      <td>17.8</td>\n",
              "      <td>396.90</td>\n",
              "      <td>9.14</td>\n",
              "      <td>21.6</td>\n",
              "    </tr>\n",
              "    <tr>\n",
              "      <th>2</th>\n",
              "      <td>0.02729</td>\n",
              "      <td>0.0</td>\n",
              "      <td>7.07</td>\n",
              "      <td>0</td>\n",
              "      <td>0.469</td>\n",
              "      <td>7.185</td>\n",
              "      <td>61.1</td>\n",
              "      <td>4.9671</td>\n",
              "      <td>2</td>\n",
              "      <td>242.0</td>\n",
              "      <td>17.8</td>\n",
              "      <td>392.83</td>\n",
              "      <td>4.03</td>\n",
              "      <td>34.7</td>\n",
              "    </tr>\n",
              "    <tr>\n",
              "      <th>3</th>\n",
              "      <td>0.03237</td>\n",
              "      <td>0.0</td>\n",
              "      <td>2.18</td>\n",
              "      <td>0</td>\n",
              "      <td>0.458</td>\n",
              "      <td>6.998</td>\n",
              "      <td>45.8</td>\n",
              "      <td>6.0622</td>\n",
              "      <td>3</td>\n",
              "      <td>222.0</td>\n",
              "      <td>18.7</td>\n",
              "      <td>394.63</td>\n",
              "      <td>2.94</td>\n",
              "      <td>33.4</td>\n",
              "    </tr>\n",
              "    <tr>\n",
              "      <th>4</th>\n",
              "      <td>0.06905</td>\n",
              "      <td>0.0</td>\n",
              "      <td>2.18</td>\n",
              "      <td>0</td>\n",
              "      <td>0.458</td>\n",
              "      <td>7.147</td>\n",
              "      <td>54.2</td>\n",
              "      <td>6.0622</td>\n",
              "      <td>3</td>\n",
              "      <td>222.0</td>\n",
              "      <td>18.7</td>\n",
              "      <td>396.90</td>\n",
              "      <td>5.33</td>\n",
              "      <td>36.2</td>\n",
              "    </tr>\n",
              "  </tbody>\n",
              "</table>\n",
              "</div>\n",
              "    <div class=\"colab-df-buttons\">\n",
              "\n",
              "  <div class=\"colab-df-container\">\n",
              "    <button class=\"colab-df-convert\" onclick=\"convertToInteractive('df-7336441a-2694-4c78-940a-d0515d666460')\"\n",
              "            title=\"Convert this dataframe to an interactive table.\"\n",
              "            style=\"display:none;\">\n",
              "\n",
              "  <svg xmlns=\"http://www.w3.org/2000/svg\" height=\"24px\" viewBox=\"0 -960 960 960\">\n",
              "    <path d=\"M120-120v-720h720v720H120Zm60-500h600v-160H180v160Zm220 220h160v-160H400v160Zm0 220h160v-160H400v160ZM180-400h160v-160H180v160Zm440 0h160v-160H620v160ZM180-180h160v-160H180v160Zm440 0h160v-160H620v160Z\"/>\n",
              "  </svg>\n",
              "    </button>\n",
              "\n",
              "  <style>\n",
              "    .colab-df-container {\n",
              "      display:flex;\n",
              "      gap: 12px;\n",
              "    }\n",
              "\n",
              "    .colab-df-convert {\n",
              "      background-color: #E8F0FE;\n",
              "      border: none;\n",
              "      border-radius: 50%;\n",
              "      cursor: pointer;\n",
              "      display: none;\n",
              "      fill: #1967D2;\n",
              "      height: 32px;\n",
              "      padding: 0 0 0 0;\n",
              "      width: 32px;\n",
              "    }\n",
              "\n",
              "    .colab-df-convert:hover {\n",
              "      background-color: #E2EBFA;\n",
              "      box-shadow: 0px 1px 2px rgba(60, 64, 67, 0.3), 0px 1px 3px 1px rgba(60, 64, 67, 0.15);\n",
              "      fill: #174EA6;\n",
              "    }\n",
              "\n",
              "    .colab-df-buttons div {\n",
              "      margin-bottom: 4px;\n",
              "    }\n",
              "\n",
              "    [theme=dark] .colab-df-convert {\n",
              "      background-color: #3B4455;\n",
              "      fill: #D2E3FC;\n",
              "    }\n",
              "\n",
              "    [theme=dark] .colab-df-convert:hover {\n",
              "      background-color: #434B5C;\n",
              "      box-shadow: 0px 1px 3px 1px rgba(0, 0, 0, 0.15);\n",
              "      filter: drop-shadow(0px 1px 2px rgba(0, 0, 0, 0.3));\n",
              "      fill: #FFFFFF;\n",
              "    }\n",
              "  </style>\n",
              "\n",
              "    <script>\n",
              "      const buttonEl =\n",
              "        document.querySelector('#df-7336441a-2694-4c78-940a-d0515d666460 button.colab-df-convert');\n",
              "      buttonEl.style.display =\n",
              "        google.colab.kernel.accessAllowed ? 'block' : 'none';\n",
              "\n",
              "      async function convertToInteractive(key) {\n",
              "        const element = document.querySelector('#df-7336441a-2694-4c78-940a-d0515d666460');\n",
              "        const dataTable =\n",
              "          await google.colab.kernel.invokeFunction('convertToInteractive',\n",
              "                                                    [key], {});\n",
              "        if (!dataTable) return;\n",
              "\n",
              "        const docLinkHtml = 'Like what you see? Visit the ' +\n",
              "          '<a target=\"_blank\" href=https://colab.research.google.com/notebooks/data_table.ipynb>data table notebook</a>'\n",
              "          + ' to learn more about interactive tables.';\n",
              "        element.innerHTML = '';\n",
              "        dataTable['output_type'] = 'display_data';\n",
              "        await google.colab.output.renderOutput(dataTable, element);\n",
              "        const docLink = document.createElement('div');\n",
              "        docLink.innerHTML = docLinkHtml;\n",
              "        element.appendChild(docLink);\n",
              "      }\n",
              "    </script>\n",
              "  </div>\n",
              "\n",
              "\n",
              "<div id=\"df-5bd63f8b-7872-4808-a792-c687450b4655\">\n",
              "  <button class=\"colab-df-quickchart\" onclick=\"quickchart('df-5bd63f8b-7872-4808-a792-c687450b4655')\"\n",
              "            title=\"Suggest charts\"\n",
              "            style=\"display:none;\">\n",
              "\n",
              "<svg xmlns=\"http://www.w3.org/2000/svg\" height=\"24px\"viewBox=\"0 0 24 24\"\n",
              "     width=\"24px\">\n",
              "    <g>\n",
              "        <path d=\"M19 3H5c-1.1 0-2 .9-2 2v14c0 1.1.9 2 2 2h14c1.1 0 2-.9 2-2V5c0-1.1-.9-2-2-2zM9 17H7v-7h2v7zm4 0h-2V7h2v10zm4 0h-2v-4h2v4z\"/>\n",
              "    </g>\n",
              "</svg>\n",
              "  </button>\n",
              "\n",
              "<style>\n",
              "  .colab-df-quickchart {\n",
              "      --bg-color: #E8F0FE;\n",
              "      --fill-color: #1967D2;\n",
              "      --hover-bg-color: #E2EBFA;\n",
              "      --hover-fill-color: #174EA6;\n",
              "      --disabled-fill-color: #AAA;\n",
              "      --disabled-bg-color: #DDD;\n",
              "  }\n",
              "\n",
              "  [theme=dark] .colab-df-quickchart {\n",
              "      --bg-color: #3B4455;\n",
              "      --fill-color: #D2E3FC;\n",
              "      --hover-bg-color: #434B5C;\n",
              "      --hover-fill-color: #FFFFFF;\n",
              "      --disabled-bg-color: #3B4455;\n",
              "      --disabled-fill-color: #666;\n",
              "  }\n",
              "\n",
              "  .colab-df-quickchart {\n",
              "    background-color: var(--bg-color);\n",
              "    border: none;\n",
              "    border-radius: 50%;\n",
              "    cursor: pointer;\n",
              "    display: none;\n",
              "    fill: var(--fill-color);\n",
              "    height: 32px;\n",
              "    padding: 0;\n",
              "    width: 32px;\n",
              "  }\n",
              "\n",
              "  .colab-df-quickchart:hover {\n",
              "    background-color: var(--hover-bg-color);\n",
              "    box-shadow: 0 1px 2px rgba(60, 64, 67, 0.3), 0 1px 3px 1px rgba(60, 64, 67, 0.15);\n",
              "    fill: var(--button-hover-fill-color);\n",
              "  }\n",
              "\n",
              "  .colab-df-quickchart-complete:disabled,\n",
              "  .colab-df-quickchart-complete:disabled:hover {\n",
              "    background-color: var(--disabled-bg-color);\n",
              "    fill: var(--disabled-fill-color);\n",
              "    box-shadow: none;\n",
              "  }\n",
              "\n",
              "  .colab-df-spinner {\n",
              "    border: 2px solid var(--fill-color);\n",
              "    border-color: transparent;\n",
              "    border-bottom-color: var(--fill-color);\n",
              "    animation:\n",
              "      spin 1s steps(1) infinite;\n",
              "  }\n",
              "\n",
              "  @keyframes spin {\n",
              "    0% {\n",
              "      border-color: transparent;\n",
              "      border-bottom-color: var(--fill-color);\n",
              "      border-left-color: var(--fill-color);\n",
              "    }\n",
              "    20% {\n",
              "      border-color: transparent;\n",
              "      border-left-color: var(--fill-color);\n",
              "      border-top-color: var(--fill-color);\n",
              "    }\n",
              "    30% {\n",
              "      border-color: transparent;\n",
              "      border-left-color: var(--fill-color);\n",
              "      border-top-color: var(--fill-color);\n",
              "      border-right-color: var(--fill-color);\n",
              "    }\n",
              "    40% {\n",
              "      border-color: transparent;\n",
              "      border-right-color: var(--fill-color);\n",
              "      border-top-color: var(--fill-color);\n",
              "    }\n",
              "    60% {\n",
              "      border-color: transparent;\n",
              "      border-right-color: var(--fill-color);\n",
              "    }\n",
              "    80% {\n",
              "      border-color: transparent;\n",
              "      border-right-color: var(--fill-color);\n",
              "      border-bottom-color: var(--fill-color);\n",
              "    }\n",
              "    90% {\n",
              "      border-color: transparent;\n",
              "      border-bottom-color: var(--fill-color);\n",
              "    }\n",
              "  }\n",
              "</style>\n",
              "\n",
              "  <script>\n",
              "    async function quickchart(key) {\n",
              "      const quickchartButtonEl =\n",
              "        document.querySelector('#' + key + ' button');\n",
              "      quickchartButtonEl.disabled = true;  // To prevent multiple clicks.\n",
              "      quickchartButtonEl.classList.add('colab-df-spinner');\n",
              "      try {\n",
              "        const charts = await google.colab.kernel.invokeFunction(\n",
              "            'suggestCharts', [key], {});\n",
              "      } catch (error) {\n",
              "        console.error('Error during call to suggestCharts:', error);\n",
              "      }\n",
              "      quickchartButtonEl.classList.remove('colab-df-spinner');\n",
              "      quickchartButtonEl.classList.add('colab-df-quickchart-complete');\n",
              "    }\n",
              "    (() => {\n",
              "      let quickchartButtonEl =\n",
              "        document.querySelector('#df-5bd63f8b-7872-4808-a792-c687450b4655 button');\n",
              "      quickchartButtonEl.style.display =\n",
              "        google.colab.kernel.accessAllowed ? 'block' : 'none';\n",
              "    })();\n",
              "  </script>\n",
              "</div>\n",
              "\n",
              "    </div>\n",
              "  </div>\n"
            ],
            "application/vnd.google.colaboratory.intrinsic+json": {
              "type": "dataframe",
              "variable_name": "data",
              "summary": "{\n  \"name\": \"data\",\n  \"rows\": 506,\n  \"fields\": [\n    {\n      \"column\": \"CRIM\",\n      \"properties\": {\n        \"dtype\": \"number\",\n        \"std\": 8.60154510533249,\n        \"min\": 0.00632,\n        \"max\": 88.9762,\n        \"num_unique_values\": 504,\n        \"samples\": [\n          0.09178,\n          0.05644,\n          0.10574\n        ],\n        \"semantic_type\": \"\",\n        \"description\": \"\"\n      }\n    },\n    {\n      \"column\": \"ZN\",\n      \"properties\": {\n        \"dtype\": \"number\",\n        \"std\": 23.32245299451514,\n        \"min\": 0.0,\n        \"max\": 100.0,\n        \"num_unique_values\": 26,\n        \"samples\": [\n          25.0,\n          30.0,\n          18.0\n        ],\n        \"semantic_type\": \"\",\n        \"description\": \"\"\n      }\n    },\n    {\n      \"column\": \"INDUS\",\n      \"properties\": {\n        \"dtype\": \"number\",\n        \"std\": 6.860352940897585,\n        \"min\": 0.46,\n        \"max\": 27.74,\n        \"num_unique_values\": 76,\n        \"samples\": [\n          8.14,\n          1.47,\n          1.22\n        ],\n        \"semantic_type\": \"\",\n        \"description\": \"\"\n      }\n    },\n    {\n      \"column\": \"CHAS\",\n      \"properties\": {\n        \"dtype\": \"number\",\n        \"std\": 0,\n        \"min\": 0,\n        \"max\": 1,\n        \"num_unique_values\": 2,\n        \"samples\": [\n          1,\n          0\n        ],\n        \"semantic_type\": \"\",\n        \"description\": \"\"\n      }\n    },\n    {\n      \"column\": \"NOX\",\n      \"properties\": {\n        \"dtype\": \"number\",\n        \"std\": 0.11587767566755595,\n        \"min\": 0.385,\n        \"max\": 0.871,\n        \"num_unique_values\": 81,\n        \"samples\": [\n          0.401,\n          0.538\n        ],\n        \"semantic_type\": \"\",\n        \"description\": \"\"\n      }\n    },\n    {\n      \"column\": \"RM\",\n      \"properties\": {\n        \"dtype\": \"number\",\n        \"std\": 0.7026171434153233,\n        \"min\": 3.561,\n        \"max\": 8.78,\n        \"num_unique_values\": 446,\n        \"samples\": [\n          6.849,\n          4.88\n        ],\n        \"semantic_type\": \"\",\n        \"description\": \"\"\n      }\n    },\n    {\n      \"column\": \"AGE\",\n      \"properties\": {\n        \"dtype\": \"number\",\n        \"std\": 28.148861406903617,\n        \"min\": 2.9,\n        \"max\": 100.0,\n        \"num_unique_values\": 356,\n        \"samples\": [\n          51.8,\n          33.8\n        ],\n        \"semantic_type\": \"\",\n        \"description\": \"\"\n      }\n    },\n    {\n      \"column\": \"DIS\",\n      \"properties\": {\n        \"dtype\": \"number\",\n        \"std\": 2.105710126627611,\n        \"min\": 1.1296,\n        \"max\": 12.1265,\n        \"num_unique_values\": 412,\n        \"samples\": [\n          2.2955,\n          4.2515\n        ],\n        \"semantic_type\": \"\",\n        \"description\": \"\"\n      }\n    },\n    {\n      \"column\": \"RAD\",\n      \"properties\": {\n        \"dtype\": \"number\",\n        \"std\": 8,\n        \"min\": 1,\n        \"max\": 24,\n        \"num_unique_values\": 9,\n        \"samples\": [\n          7,\n          2\n        ],\n        \"semantic_type\": \"\",\n        \"description\": \"\"\n      }\n    },\n    {\n      \"column\": \"TAX\",\n      \"properties\": {\n        \"dtype\": \"number\",\n        \"std\": 168.53711605495903,\n        \"min\": 187.0,\n        \"max\": 711.0,\n        \"num_unique_values\": 66,\n        \"samples\": [\n          370.0,\n          666.0\n        ],\n        \"semantic_type\": \"\",\n        \"description\": \"\"\n      }\n    },\n    {\n      \"column\": \"PTRATIO\",\n      \"properties\": {\n        \"dtype\": \"number\",\n        \"std\": 2.1649455237144406,\n        \"min\": 12.6,\n        \"max\": 22.0,\n        \"num_unique_values\": 46,\n        \"samples\": [\n          19.6,\n          15.6\n        ],\n        \"semantic_type\": \"\",\n        \"description\": \"\"\n      }\n    },\n    {\n      \"column\": \"B\",\n      \"properties\": {\n        \"dtype\": \"number\",\n        \"std\": 91.29486438415783,\n        \"min\": 0.32,\n        \"max\": 396.9,\n        \"num_unique_values\": 357,\n        \"samples\": [\n          396.24,\n          395.11\n        ],\n        \"semantic_type\": \"\",\n        \"description\": \"\"\n      }\n    },\n    {\n      \"column\": \"LSTAT\",\n      \"properties\": {\n        \"dtype\": \"number\",\n        \"std\": 7.141061511348571,\n        \"min\": 1.73,\n        \"max\": 37.97,\n        \"num_unique_values\": 455,\n        \"samples\": [\n          6.15,\n          4.32\n        ],\n        \"semantic_type\": \"\",\n        \"description\": \"\"\n      }\n    },\n    {\n      \"column\": \"MEDV\",\n      \"properties\": {\n        \"dtype\": \"number\",\n        \"std\": 9.197104087379818,\n        \"min\": 5.0,\n        \"max\": 50.0,\n        \"num_unique_values\": 229,\n        \"samples\": [\n          14.1,\n          22.5\n        ],\n        \"semantic_type\": \"\",\n        \"description\": \"\"\n      }\n    }\n  ]\n}"
            }
          },
          "metadata": {},
          "execution_count": 13
        }
      ],
      "source": [
        "assert data.shape == (506, 14)\n",
        "print(\"Data is loaded correctly!\")\n",
        "data.head()"
      ]
    },
    {
      "cell_type": "markdown",
      "metadata": {
        "id": "Tg9L6TYyplZ1"
      },
      "source": [
        "MEDV 변수를 제외한 나머지 예측 변수들을 `X`에 저장하고, 종속변수인 MEDV를 `y`에 저장합니다.\n",
        "\n",
        "이 때, 선형회귀모델의 성능을 높이기 위해 예측 변수의 값들을 정규화하였습니다."
      ]
    },
    {
      "cell_type": "code",
      "execution_count": 34,
      "metadata": {
        "id": "ZhXFSUoMplZ1"
      },
      "outputs": [],
      "source": [
        "from sklearn.preprocessing import StandardScaler\n",
        "scaler = StandardScaler()\n",
        "X = pd.DataFrame(scaler.fit_transform(data.drop(['MEDV'], axis=1)), columns=data.columns[:-1])\n",
        "y = data.MEDV"
      ]
    },
    {
      "cell_type": "markdown",
      "metadata": {
        "id": "id6mugUwplZ1"
      },
      "source": [
        "이제, 임의로 학습용 데이터와 평가용 데이터를 8:2로 나눕니다."
      ]
    },
    {
      "cell_type": "code",
      "execution_count": 35,
      "metadata": {
        "id": "_e38jRnkplZ1"
      },
      "outputs": [],
      "source": [
        "from sklearn.model_selection import train_test_split\n",
        "from sklearn.utils import shuffle\n",
        "X_train, X_test, y_train, y_test = train_test_split(X, y, test_size=0.2, random_state=42)\n",
        "X_train, y_train = shuffle(X_train, y_train, random_state=42)"
      ]
    },
    {
      "cell_type": "markdown",
      "metadata": {
        "id": "H29DQLbSplZ1"
      },
      "source": [
        "각자 환경에 맞는 device를 설정합니다."
      ]
    },
    {
      "cell_type": "code",
      "execution_count": 36,
      "metadata": {
        "id": "CkhcFphYplZ1"
      },
      "outputs": [],
      "source": [
        "import torch\n",
        "device = \"cuda\" if torch.cuda.is_available() else \"cpu\""
      ]
    },
    {
      "cell_type": "markdown",
      "metadata": {
        "id": "hNxm6u4xplZ1"
      },
      "source": [
        "#### 문제 2. 변수 `X_train_tensor`, `y_train_tensor`, `X_test_tensor`, `y_test_tensor`에 각각 학습을 위한 텐서와 평가를 위한 텐서를 저장하세요.\n",
        "- 이 때, 각 텐서가 환경에 맞는 device (cpu or gpu)상에 저장되도록 작성하세요.\n",
        "- 추후 편의를 위해 `y`에 대한 텐서의 차원은 (데이터 개수, 1)의 형태가 되도록 작성하세요."
      ]
    },
    {
      "cell_type": "code",
      "execution_count": 41,
      "metadata": {
        "id": "C9nX4_iTplZ1"
      },
      "outputs": [],
      "source": [
        "# [CODE START]\n",
        "X_train_tensor = torch.tensor(X_train.values, dtype=torch.float32)\n",
        "y_train_tensor = torch.tensor(y_train.values, dtype=torch.float32).view(-1, 1)\n",
        "X_test_tensor = torch.tensor(X_test.values, dtype=torch.float32)\n",
        "y_test_tensor = torch.tensor(y_test.values, dtype=torch.float32).view(-1, 1)\n",
        "\n",
        "X_train_tensor = X_train_tensor.to(device)\n",
        "y_train_tensor = y_train_tensor.to(device)\n",
        "X_test_tensor = X_test_tensor.to(device)\n",
        "y_test_tensor = y_test_tensor.to(device)\n",
        "# [CODE END]"
      ]
    },
    {
      "cell_type": "markdown",
      "metadata": {
        "id": "ao4jpT9FplZ2"
      },
      "source": [
        "올바르게 저장했다면, 아래 코드가 에러없이 잘 수행됩니다."
      ]
    },
    {
      "cell_type": "code",
      "execution_count": 42,
      "metadata": {
        "id": "nNWtLH6VplZ2",
        "outputId": "30f5781c-bb6d-4fbc-eab3-4e3a3d089dde",
        "colab": {
          "base_uri": "https://localhost:8080/"
        }
      },
      "outputs": [
        {
          "output_type": "stream",
          "name": "stdout",
          "text": [
            "Tensor is loaded correctly!\n"
          ]
        }
      ],
      "source": [
        "assert X_train_tensor.shape == (404, 13)\n",
        "assert y_train_tensor.shape == (404, 1)\n",
        "assert X_test_tensor.shape == (102, 13)\n",
        "assert y_test_tensor.shape == (102, 1)\n",
        "\n",
        "assert X_train_tensor.device.type == device\n",
        "assert y_train_tensor.device.type == device\n",
        "assert X_test_tensor.device.type == device\n",
        "assert y_test_tensor.device.type == device\n",
        "print(\"Tensor is loaded correctly!\")"
      ]
    },
    {
      "cell_type": "markdown",
      "metadata": {
        "id": "I-wfIQmiplZ2"
      },
      "source": [
        "학습을 위한 데이터셋 객체와 데이터로더 객체를 생성합니다. 이 때, 배치 사이즈는 기본적으로 32로 설정하였습니다"
      ]
    },
    {
      "cell_type": "code",
      "execution_count": 43,
      "metadata": {
        "id": "IQKesVU3plZ2"
      },
      "outputs": [],
      "source": [
        "from torch.utils.data import DataLoader, TensorDataset\n",
        "train_dataset = TensorDataset(X_train_tensor, y_train_tensor)\n",
        "train_loader = DataLoader(train_dataset, batch_size=32, shuffle=True)"
      ]
    },
    {
      "cell_type": "markdown",
      "metadata": {
        "id": "D4JvyR8vplZ2"
      },
      "source": [
        "---\n",
        "## **선형회귀모델 작성하고 학습하기**"
      ]
    },
    {
      "cell_type": "markdown",
      "metadata": {
        "id": "gyhpEGsGplZ2"
      },
      "source": [
        "#### 문제 3. TODO 부분을 채워 다중선형회귀 모델을 위한 클래스를 완성하세요.\n",
        "- `__init__` 함수 내에서 인스턴스 변수 `linear`에 `input_size`에 저장된 차원의 데이터를 받아 1차원의 데이터를 반환하는 선형 layer를 저장하세요.\n",
        "\n",
        "- 해당 네트워크가 올바른 출력값을 내뱉도록 `forward` 함수를 완성하세요."
      ]
    },
    {
      "cell_type": "code",
      "execution_count": 45,
      "metadata": {
        "id": "gaNtZBc8plZ2"
      },
      "outputs": [],
      "source": [
        "import torch.nn as nn\n",
        "class MultipleLinearRegression(nn.Module):\n",
        "    def __init__(self, input_size):\n",
        "        super(MultipleLinearRegression, self).__init__()\n",
        "        # [CODE START]\n",
        "        self.linear = nn.Linear(input_size, 1)\n",
        "        # [CODE END]\n",
        "\n",
        "    def forward(self, x):\n",
        "        # [CODE START]\n",
        "        y = self.linear(x)\n",
        "        return y\n",
        "        # [CODE END]"
      ]
    },
    {
      "cell_type": "markdown",
      "metadata": {
        "id": "Nxqv5HY0plZ2"
      },
      "source": [
        "올바르게 작성했다면, 아래 코드가 에러없이 잘 수행됩니다."
      ]
    },
    {
      "cell_type": "code",
      "execution_count": 46,
      "metadata": {
        "id": "20_4FbfhplZ3",
        "outputId": "76730444-d2f7-499d-f0be-7cb5d0e32c24",
        "colab": {
          "base_uri": "https://localhost:8080/"
        }
      },
      "outputs": [
        {
          "output_type": "stream",
          "name": "stdout",
          "text": [
            "Model is implemented correctly!\n"
          ]
        }
      ],
      "source": [
        "input_size = X_train_tensor.shape[1]\n",
        "model = MultipleLinearRegression(input_size)\n",
        "model.to(device)\n",
        "\n",
        "assert model(X_test_tensor).shape == (102, 1)\n",
        "print(\"Model is implemented correctly!\")"
      ]
    },
    {
      "cell_type": "markdown",
      "metadata": {
        "id": "7jwjal4-plZ3"
      },
      "source": [
        "#### 문제 4. `criterion` 변수에 MSE를 손실함수로 하는 객체를 저장하세요."
      ]
    },
    {
      "cell_type": "code",
      "execution_count": 48,
      "metadata": {
        "id": "kGm3bSmLplZ3"
      },
      "outputs": [],
      "source": [
        "# [CODE START]\n",
        "criterion = nn.MSELoss()\n",
        "# [CODE END]"
      ]
    },
    {
      "cell_type": "markdown",
      "metadata": {
        "id": "WtNP3amaplZ3"
      },
      "source": [
        "#### 문제  5. `optimizer` 변수에 SGD로 최적화하는 객체를 저장하세요.\n",
        "이 때, learning rate은 0.001로 설정하세요."
      ]
    },
    {
      "cell_type": "code",
      "execution_count": 49,
      "metadata": {
        "id": "TSXQS2YrplZ3"
      },
      "outputs": [],
      "source": [
        "import torch.optim as optim\n",
        "# [CODE START]\n",
        "optimizer = optim.SGD(model.parameters(), lr=0.001)\n",
        "# [CODE END]"
      ]
    },
    {
      "cell_type": "markdown",
      "metadata": {
        "id": "VetHS6FnplZ3"
      },
      "source": [
        "이제, 지금까지 작성한 코드를 바탕으로 다중선형회귀 모형을 학습합니다."
      ]
    },
    {
      "cell_type": "code",
      "execution_count": 50,
      "metadata": {
        "id": "AQuq2w2oplZ3",
        "outputId": "a289da71-dda4-4986-b6fc-d9230ef8ffe1",
        "colab": {
          "base_uri": "https://localhost:8080/"
        }
      },
      "outputs": [
        {
          "output_type": "stream",
          "name": "stdout",
          "text": [
            "Epoch 100, Loss(RMSE): 5.095888669571717\n",
            "Epoch 200, Loss(RMSE): 4.726424116327097\n",
            "Epoch 300, Loss(RMSE): 4.693609521362971\n",
            "Epoch 400, Loss(RMSE): 4.678734916035684\n",
            "Epoch 500, Loss(RMSE): 4.669959398083812\n",
            "Epoch 600, Loss(RMSE): 4.664915391793676\n",
            "Epoch 700, Loss(RMSE): 4.661665652219798\n",
            "Epoch 800, Loss(RMSE): 4.659716489218518\n",
            "Epoch 900, Loss(RMSE): 4.658414507056033\n",
            "Epoch 1000, Loss(RMSE): 4.656701920709057\n",
            "Epoch 1100, Loss(RMSE): 4.656056704473851\n",
            "Epoch 1200, Loss(RMSE): 4.6566309218264905\n",
            "Epoch 1300, Loss(RMSE): 4.65500849767615\n",
            "Epoch 1400, Loss(RMSE): 4.655125172040832\n",
            "Epoch 1500, Loss(RMSE): 4.656030697778254\n",
            "Epoch 1600, Loss(RMSE): 4.6547441564048215\n",
            "Epoch 1700, Loss(RMSE): 4.654388374975508\n",
            "Epoch 1800, Loss(RMSE): 4.654133822971111\n",
            "Epoch 1900, Loss(RMSE): 4.65477729446455\n",
            "Epoch 2000, Loss(RMSE): 4.6546491610841745\n"
          ]
        }
      ],
      "source": [
        "import numpy as np\n",
        "\n",
        "num_epochs = 2000 # epoch를 2000으로 설정\n",
        "model.train() # 학습을 위해 모델이 gradient를 저장하도록 설정\n",
        "for epoch in range(num_epochs):\n",
        "    epoch_loss = 0.0\n",
        "    data_num = 0\n",
        "    for inputs, targets in train_loader: # 각 배치마다 반복\n",
        "        optimizer.zero_grad() # 옵티마이저의 gradient 초기화\n",
        "        outputs = model(inputs) # 데이터를 넣었을 때의 모델의 출력값 저장\n",
        "        loss = criterion(outputs, targets) # MSE 손실 계산\n",
        "        loss.backward() # gradient descent 수행\n",
        "        optimizer.step() # SGD 방식의 최적화 진행\n",
        "        epoch_loss += loss.item()*inputs.shape[0]\n",
        "        data_num += inputs.shape[0]\n",
        "    if (epoch+1) % 100 == 0: # 100번의 epoch마다 학습 데이터의 손실함수 출력\n",
        "        print(f\"Epoch {epoch+1}, Loss(RMSE): {np.sqrt(epoch_loss/data_num)}\")"
      ]
    },
    {
      "cell_type": "markdown",
      "metadata": {
        "id": "jzWWegGNplZ3"
      },
      "source": [
        "학습한 모델을 바탕으로 평가 데이터에 대한 RMSE를 아래 공식과 같이 계산합니다."
      ]
    },
    {
      "cell_type": "markdown",
      "source": [
        "$$\n",
        "\\text{RMSE}(y, \\hat{y}) = \\sqrt{\\frac{\\sum_{i=0}^{N - 1} (y_i - \\hat{y}_i)^2}{N}}\n",
        "$$"
      ],
      "metadata": {
        "id": "zbk4U3QeKxby"
      }
    },
    {
      "cell_type": "code",
      "execution_count": 51,
      "metadata": {
        "id": "nL0de5M8plZ3",
        "outputId": "0d365840-ed6b-4e61-8405-b765f3b8de17",
        "colab": {
          "base_uri": "https://localhost:8080/"
        }
      },
      "outputs": [
        {
          "output_type": "stream",
          "name": "stdout",
          "text": [
            "Test Loss(RMSE): 4.936456690788868\n"
          ]
        }
      ],
      "source": [
        "model.eval()\n",
        "with torch.no_grad():\n",
        "    y_pred = model(X_test_tensor)\n",
        "    test_loss = criterion(y_pred, y_test_tensor)\n",
        "    print(f\"Test Loss(RMSE): {np.sqrt(test_loss.item())}\")"
      ]
    },
    {
      "cell_type": "markdown",
      "metadata": {
        "id": "I2UBZ8vxplZ3"
      },
      "source": [
        "#### 문제 6. 학습한 모델로부터 intercept에 대한 값을 변수 `b0`에, 나머지 변수에 대한 회귀계수 값을 변수 `b1`에 저장하세요.\n",
        "\n",
        "힌트: `torch.nn.Module.parameters()` 함수는 PyTorch에서 신경망 모델의 모든 학습 가능한 파라미터들을 반환하는 함수입니다."
      ]
    },
    {
      "cell_type": "code",
      "execution_count": 67,
      "metadata": {
        "id": "1ztfkwrcplaC"
      },
      "outputs": [],
      "source": [
        "# [CODE START]\n",
        "params = list(model.parameters())\n",
        "b0 = params[0]\n",
        "b1 = params[1]\n",
        "# [CODE END]"
      ]
    },
    {
      "cell_type": "code",
      "execution_count": 68,
      "metadata": {
        "id": "49SJVg1pplaC",
        "outputId": "f83007bb-fa47-43e7-b7b9-b721e6a65fb1",
        "colab": {
          "base_uri": "https://localhost:8080/"
        }
      },
      "outputs": [
        {
          "output_type": "stream",
          "name": "stdout",
          "text": [
            "intercept: [[-0.9736214   0.68977416  0.2500494   0.7151077  -1.9947908   3.1248848\n",
            "  -0.18068266 -3.040006    2.1975741  -1.7025492  -1.980231    1.124907\n",
            "  -3.626526  ]], other coef: [22.480146]\n"
          ]
        }
      ],
      "source": [
        "print(f\"intercept: {b0.cpu().data.numpy()}, other coef: {b1.cpu().data.numpy()}\")"
      ]
    },
    {
      "cell_type": "markdown",
      "metadata": {
        "id": "V14c_JLxplaC"
      },
      "source": [
        "---\n",
        "## Analytic Solution과 비교하기"
      ]
    },
    {
      "cell_type": "markdown",
      "metadata": {
        "id": "4DKsJTB5plaC"
      },
      "source": [
        "이제, 머신러닝을 통해 계산한 회귀계수와 공식을 통해 계산한 값을 비교하고자 합니다."
      ]
    },
    {
      "cell_type": "markdown",
      "metadata": {
        "id": "WslcVCLKplaC"
      },
      "source": [
        "scikit-learn 라이브러리에서 `LinearRegression` 객체는 선형회귀모형을 적합하는 모형입니다."
      ]
    },
    {
      "cell_type": "code",
      "execution_count": 60,
      "metadata": {
        "id": "zBhTOkWaplaD"
      },
      "outputs": [],
      "source": [
        "from sklearn.linear_model import LinearRegression\n",
        "from sklearn.metrics import mean_squared_error"
      ]
    },
    {
      "cell_type": "markdown",
      "metadata": {
        "id": "ROgBxIbNplaD"
      },
      "source": [
        "아래와 같이 `LinearRegression` 객체를 생성하고 학습데이터를 바탕으로 적합하면 공식을 통해 회귀계수를 계산할 수 있습니다."
      ]
    },
    {
      "cell_type": "code",
      "execution_count": 61,
      "metadata": {
        "id": "pdzIpRMOplaD",
        "outputId": "ae976dbb-c210-4544-e391-a7df855457be",
        "colab": {
          "base_uri": "https://localhost:8080/",
          "height": 75
        }
      },
      "outputs": [
        {
          "output_type": "execute_result",
          "data": {
            "text/plain": [
              "LinearRegression()"
            ],
            "text/html": [
              "<style>#sk-container-id-1 {color: black;}#sk-container-id-1 pre{padding: 0;}#sk-container-id-1 div.sk-toggleable {background-color: white;}#sk-container-id-1 label.sk-toggleable__label {cursor: pointer;display: block;width: 100%;margin-bottom: 0;padding: 0.3em;box-sizing: border-box;text-align: center;}#sk-container-id-1 label.sk-toggleable__label-arrow:before {content: \"▸\";float: left;margin-right: 0.25em;color: #696969;}#sk-container-id-1 label.sk-toggleable__label-arrow:hover:before {color: black;}#sk-container-id-1 div.sk-estimator:hover label.sk-toggleable__label-arrow:before {color: black;}#sk-container-id-1 div.sk-toggleable__content {max-height: 0;max-width: 0;overflow: hidden;text-align: left;background-color: #f0f8ff;}#sk-container-id-1 div.sk-toggleable__content pre {margin: 0.2em;color: black;border-radius: 0.25em;background-color: #f0f8ff;}#sk-container-id-1 input.sk-toggleable__control:checked~div.sk-toggleable__content {max-height: 200px;max-width: 100%;overflow: auto;}#sk-container-id-1 input.sk-toggleable__control:checked~label.sk-toggleable__label-arrow:before {content: \"▾\";}#sk-container-id-1 div.sk-estimator input.sk-toggleable__control:checked~label.sk-toggleable__label {background-color: #d4ebff;}#sk-container-id-1 div.sk-label input.sk-toggleable__control:checked~label.sk-toggleable__label {background-color: #d4ebff;}#sk-container-id-1 input.sk-hidden--visually {border: 0;clip: rect(1px 1px 1px 1px);clip: rect(1px, 1px, 1px, 1px);height: 1px;margin: -1px;overflow: hidden;padding: 0;position: absolute;width: 1px;}#sk-container-id-1 div.sk-estimator {font-family: monospace;background-color: #f0f8ff;border: 1px dotted black;border-radius: 0.25em;box-sizing: border-box;margin-bottom: 0.5em;}#sk-container-id-1 div.sk-estimator:hover {background-color: #d4ebff;}#sk-container-id-1 div.sk-parallel-item::after {content: \"\";width: 100%;border-bottom: 1px solid gray;flex-grow: 1;}#sk-container-id-1 div.sk-label:hover label.sk-toggleable__label {background-color: #d4ebff;}#sk-container-id-1 div.sk-serial::before {content: \"\";position: absolute;border-left: 1px solid gray;box-sizing: border-box;top: 0;bottom: 0;left: 50%;z-index: 0;}#sk-container-id-1 div.sk-serial {display: flex;flex-direction: column;align-items: center;background-color: white;padding-right: 0.2em;padding-left: 0.2em;position: relative;}#sk-container-id-1 div.sk-item {position: relative;z-index: 1;}#sk-container-id-1 div.sk-parallel {display: flex;align-items: stretch;justify-content: center;background-color: white;position: relative;}#sk-container-id-1 div.sk-item::before, #sk-container-id-1 div.sk-parallel-item::before {content: \"\";position: absolute;border-left: 1px solid gray;box-sizing: border-box;top: 0;bottom: 0;left: 50%;z-index: -1;}#sk-container-id-1 div.sk-parallel-item {display: flex;flex-direction: column;z-index: 1;position: relative;background-color: white;}#sk-container-id-1 div.sk-parallel-item:first-child::after {align-self: flex-end;width: 50%;}#sk-container-id-1 div.sk-parallel-item:last-child::after {align-self: flex-start;width: 50%;}#sk-container-id-1 div.sk-parallel-item:only-child::after {width: 0;}#sk-container-id-1 div.sk-dashed-wrapped {border: 1px dashed gray;margin: 0 0.4em 0.5em 0.4em;box-sizing: border-box;padding-bottom: 0.4em;background-color: white;}#sk-container-id-1 div.sk-label label {font-family: monospace;font-weight: bold;display: inline-block;line-height: 1.2em;}#sk-container-id-1 div.sk-label-container {text-align: center;}#sk-container-id-1 div.sk-container {/* jupyter's `normalize.less` sets `[hidden] { display: none; }` but bootstrap.min.css set `[hidden] { display: none !important; }` so we also need the `!important` here to be able to override the default hidden behavior on the sphinx rendered scikit-learn.org. See: https://github.com/scikit-learn/scikit-learn/issues/21755 */display: inline-block !important;position: relative;}#sk-container-id-1 div.sk-text-repr-fallback {display: none;}</style><div id=\"sk-container-id-1\" class=\"sk-top-container\"><div class=\"sk-text-repr-fallback\"><pre>LinearRegression()</pre><b>In a Jupyter environment, please rerun this cell to show the HTML representation or trust the notebook. <br />On GitHub, the HTML representation is unable to render, please try loading this page with nbviewer.org.</b></div><div class=\"sk-container\" hidden><div class=\"sk-item\"><div class=\"sk-estimator sk-toggleable\"><input class=\"sk-toggleable__control sk-hidden--visually\" id=\"sk-estimator-id-1\" type=\"checkbox\" checked><label for=\"sk-estimator-id-1\" class=\"sk-toggleable__label sk-toggleable__label-arrow\">LinearRegression</label><div class=\"sk-toggleable__content\"><pre>LinearRegression()</pre></div></div></div></div></div>"
            ]
          },
          "metadata": {},
          "execution_count": 61
        }
      ],
      "source": [
        "lm = LinearRegression()\n",
        "lm.fit(X_train, y_train)"
      ]
    },
    {
      "cell_type": "markdown",
      "metadata": {
        "id": "jLcyz3pgplaD"
      },
      "source": [
        "이렇게 적합한 모델을 가지고 학습 데이터와 평가 데이터의 RMSE를 계산할 수도 있습니다."
      ]
    },
    {
      "cell_type": "code",
      "execution_count": 62,
      "metadata": {
        "id": "PI4OHrcDplaD",
        "outputId": "4cfc87c4-4c89-4459-8883-6267fb631850",
        "colab": {
          "base_uri": "https://localhost:8080/"
        }
      },
      "outputs": [
        {
          "output_type": "stream",
          "name": "stdout",
          "text": [
            "Train Loss(RMSE): 4.6520331848801675\n"
          ]
        }
      ],
      "source": [
        "y_pred = lm.predict(X_train)\n",
        "rmse = np.sqrt(mean_squared_error(y_train, y_pred))\n",
        "print(f\"Train Loss(RMSE): {rmse}\")"
      ]
    },
    {
      "cell_type": "code",
      "execution_count": 63,
      "metadata": {
        "id": "4kdseM9zplaD",
        "outputId": "e355954e-3f82-406c-8838-e6e83889bc61",
        "colab": {
          "base_uri": "https://localhost:8080/"
        }
      },
      "outputs": [
        {
          "output_type": "stream",
          "name": "stdout",
          "text": [
            "Test Loss(RMSE): 4.928602182665338\n"
          ]
        }
      ],
      "source": [
        "y_pred = lm.predict(X_test)\n",
        "rmse = np.sqrt(mean_squared_error(y_test, y_pred))\n",
        "print(f\"Test Loss(RMSE): {rmse}\")"
      ]
    },
    {
      "cell_type": "markdown",
      "metadata": {
        "id": "xvwsZsXbplaD"
      },
      "source": [
        "다음과 같이 `LinearRegression`객체의 인스턴스 변수 `intercept_`와 `coef_`에 접근함으로써 회귀계수를 추출할 수 있습니다."
      ]
    },
    {
      "cell_type": "code",
      "execution_count": 64,
      "metadata": {
        "id": "SK1NO2RbplaD",
        "outputId": "84b63995-f2b9-4dde-8ecb-e91ede7b2e2a",
        "colab": {
          "base_uri": "https://localhost:8080/"
        }
      },
      "outputs": [
        {
          "output_type": "stream",
          "name": "stdout",
          "text": [
            "intercept: 22.485268239316902, tangent: [-0.97149423  0.70155562  0.27675212  0.70653152 -1.99143043  3.11571836\n",
            " -0.17706021 -3.04577065  2.28278471 -1.79260468 -1.97995351  1.12649864\n",
            " -3.62814937]\n"
          ]
        }
      ],
      "source": [
        "print(f\"intercept: {lm.intercept_}, tangent: {lm.coef_}\")"
      ]
    },
    {
      "cell_type": "markdown",
      "metadata": {
        "id": "BlgXDm96plaD"
      },
      "source": [
        "두가지 방법으로 계산한 회귀계수의 차이를 계산한다면, 머신러닝을 통해 수치적인 방법으로 계산한 회귀계수의 정확성을 판단할 수 있습니다."
      ]
    },
    {
      "cell_type": "code",
      "execution_count": 69,
      "metadata": {
        "id": "A7UP02CEplaD",
        "outputId": "6428ac11-2311-4952-c18b-38be3bb2d862",
        "colab": {
          "base_uri": "https://localhost:8080/"
        }
      },
      "outputs": [
        {
          "output_type": "execute_result",
          "data": {
            "text/plain": [
              "6866.3823"
            ]
          },
          "metadata": {},
          "execution_count": 69
        }
      ],
      "source": [
        "((lm.intercept_ - b0.cpu().detach().numpy())**2).sum()"
      ]
    },
    {
      "cell_type": "code",
      "execution_count": 70,
      "metadata": {
        "id": "67oV-r2vplaE",
        "outputId": "a17a8168-8f65-489b-d865-52638f5bbe03",
        "colab": {
          "base_uri": "https://localhost:8080/"
        }
      },
      "outputs": [
        {
          "output_type": "execute_result",
          "data": {
            "text/plain": [
              "527.9342940559543"
            ]
          },
          "metadata": {},
          "execution_count": 70
        }
      ],
      "source": [
        "((lm.coef_ - b1.cpu().detach().numpy())**2).mean()"
      ]
    },
    {
      "cell_type": "markdown",
      "metadata": {
        "id": "oHQ-YpEjqaDw"
      },
      "source": [
        "## 콘텐츠 라이선스\n",
        "\n",
        "<hr style=\"height:5px;border:none;color:#5F71F7;background-color:#5F71F7\">\n",
        "\n",
        "<font color='red'><b>WARNING</font> : 본 교육 콘텐츠의 지식재산권은 재단법인 네이버커넥트에 귀속됩니다. 본 콘텐츠를 어떠한 경로로든 외부로 유출 및 수정하는 행위를 엄격히 금합니다. 다만, 비영리적 교육 및 연구활동에 한정되어 사용할 수 있으나 재단의 허락을 받아야 합니다. 이를 위반하는 경우, 관련 법률에 따라 책임을 질 수 있습니다. </b>"
      ]
    }
  ],
  "metadata": {
    "colab": {
      "provenance": [],
      "include_colab_link": true
    },
    "kernelspec": {
      "display_name": "Python 3 (ipykernel)",
      "language": "python",
      "name": "python3"
    },
    "language_info": {
      "codemirror_mode": {
        "name": "ipython",
        "version": 3
      },
      "file_extension": ".py",
      "mimetype": "text/x-python",
      "name": "python",
      "nbconvert_exporter": "python",
      "pygments_lexer": "ipython3",
      "version": "3.10.14"
    }
  },
  "nbformat": 4,
  "nbformat_minor": 0
}